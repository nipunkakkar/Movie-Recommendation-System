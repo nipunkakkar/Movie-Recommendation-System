{
  "nbformat": 4,
  "nbformat_minor": 0,
  "metadata": {
    "colab": {
      "name": "Movie Recommendation.ipynb",
      "provenance": [],
      "collapsed_sections": []
    },
    "kernelspec": {
      "name": "python3",
      "display_name": "Python 3"
    }
  },
  "cells": [
    {
      "cell_type": "markdown",
      "metadata": {
        "id": "uXfNMCS0joeE",
        "colab_type": "text"
      },
      "source": [
        "**Movie Recommendation.ipynb**\n",
        "\n",
        "Since all preprocessing is done and final.csv is saved.\n",
        "We can now recommend movies to user based on cosine similarity as discussed earlier.\n",
        "User will enter a movie in the model (or in webapp) and model will go through all the data in final.csv and recommend movies which are closest to that movie which was searched earlier."
      ]
    },
    {
      "cell_type": "markdown",
      "metadata": {
        "id": "8X_doej5kAYm",
        "colab_type": "text"
      },
      "source": [
        "# Step 1 - Importing the libraries"
      ]
    },
    {
      "cell_type": "code",
      "metadata": {
        "id": "ixINT5qYkC72",
        "colab_type": "code",
        "colab": {}
      },
      "source": [
        "import numpy as np\n",
        "import pandas as pd\n",
        "from sklearn.feature_extraction.text import CountVectorizer\n",
        "from sklearn.metrics.pairwise import cosine_similarity"
      ],
      "execution_count": 1,
      "outputs": []
    },
    {
      "cell_type": "markdown",
      "metadata": {
        "id": "Z7xt9U_8kKXQ",
        "colab_type": "text"
      },
      "source": [
        "# Step 2 - Importnig final.csv file"
      ]
    },
    {
      "cell_type": "code",
      "metadata": {
        "id": "6MUUel50kNtp",
        "colab_type": "code",
        "colab": {
          "base_uri": "https://localhost:8080/",
          "height": 281
        },
        "outputId": "8e6882cd-5518-49b9-f7d6-7b9216b3d6a2"
      },
      "source": [
        "data = pd.read_csv('/content/drive/My Drive/Data Science Projects/dataset_movies/final.csv')\n",
        "data.head()"
      ],
      "execution_count": 2,
      "outputs": [
        {
          "output_type": "execute_result",
          "data": {
            "text/html": [
              "<div>\n",
              "<style scoped>\n",
              "    .dataframe tbody tr th:only-of-type {\n",
              "        vertical-align: middle;\n",
              "    }\n",
              "\n",
              "    .dataframe tbody tr th {\n",
              "        vertical-align: top;\n",
              "    }\n",
              "\n",
              "    .dataframe thead th {\n",
              "        text-align: right;\n",
              "    }\n",
              "</style>\n",
              "<table border=\"1\" class=\"dataframe\">\n",
              "  <thead>\n",
              "    <tr style=\"text-align: right;\">\n",
              "      <th></th>\n",
              "      <th>director_name</th>\n",
              "      <th>actor_1_name</th>\n",
              "      <th>actor_2_name</th>\n",
              "      <th>actor_3_name</th>\n",
              "      <th>genres</th>\n",
              "      <th>movie_title</th>\n",
              "      <th>comb</th>\n",
              "    </tr>\n",
              "  </thead>\n",
              "  <tbody>\n",
              "    <tr>\n",
              "      <th>0</th>\n",
              "      <td>James Cameron</td>\n",
              "      <td>CCH Pounder</td>\n",
              "      <td>Joel David Moore</td>\n",
              "      <td>Wes Studi</td>\n",
              "      <td>Action Adventure Fantasy Sci-Fi</td>\n",
              "      <td>avatar</td>\n",
              "      <td>James Cameron CCH Pounder Joel David Moore Wes...</td>\n",
              "    </tr>\n",
              "    <tr>\n",
              "      <th>1</th>\n",
              "      <td>Gore Verbinski</td>\n",
              "      <td>Johnny Depp</td>\n",
              "      <td>Orlando Bloom</td>\n",
              "      <td>Jack Davenport</td>\n",
              "      <td>Action Adventure Fantasy</td>\n",
              "      <td>pirates of the caribbean: at world's end</td>\n",
              "      <td>Gore Verbinski Johnny Depp Orlando Bloom Jack ...</td>\n",
              "    </tr>\n",
              "    <tr>\n",
              "      <th>2</th>\n",
              "      <td>Sam Mendes</td>\n",
              "      <td>Christoph Waltz</td>\n",
              "      <td>Rory Kinnear</td>\n",
              "      <td>Stephanie Sigman</td>\n",
              "      <td>Action Adventure Thriller</td>\n",
              "      <td>spectre</td>\n",
              "      <td>Sam Mendes Christoph Waltz Rory Kinnear Stepha...</td>\n",
              "    </tr>\n",
              "    <tr>\n",
              "      <th>3</th>\n",
              "      <td>Christopher Nolan</td>\n",
              "      <td>Tom Hardy</td>\n",
              "      <td>Christian Bale</td>\n",
              "      <td>Joseph Gordon-Levitt</td>\n",
              "      <td>Action Thriller</td>\n",
              "      <td>the dark knight rises</td>\n",
              "      <td>Christopher Nolan Tom Hardy Christian Bale Jos...</td>\n",
              "    </tr>\n",
              "    <tr>\n",
              "      <th>4</th>\n",
              "      <td>Andrew Stanton</td>\n",
              "      <td>Daryl Sabara</td>\n",
              "      <td>Samantha Morton</td>\n",
              "      <td>Polly Walker</td>\n",
              "      <td>Action Adventure Sci-Fi</td>\n",
              "      <td>john carter</td>\n",
              "      <td>Andrew Stanton Daryl Sabara Samantha Morton Po...</td>\n",
              "    </tr>\n",
              "  </tbody>\n",
              "</table>\n",
              "</div>"
            ],
            "text/plain": [
              "       director_name  ...                                               comb\n",
              "0      James Cameron  ...  James Cameron CCH Pounder Joel David Moore Wes...\n",
              "1     Gore Verbinski  ...  Gore Verbinski Johnny Depp Orlando Bloom Jack ...\n",
              "2         Sam Mendes  ...  Sam Mendes Christoph Waltz Rory Kinnear Stepha...\n",
              "3  Christopher Nolan  ...  Christopher Nolan Tom Hardy Christian Bale Jos...\n",
              "4     Andrew Stanton  ...  Andrew Stanton Daryl Sabara Samantha Morton Po...\n",
              "\n",
              "[5 rows x 7 columns]"
            ]
          },
          "metadata": {
            "tags": []
          },
          "execution_count": 2
        }
      ]
    },
    {
      "cell_type": "markdown",
      "metadata": {
        "id": "xeKirltqkTLZ",
        "colab_type": "text"
      },
      "source": [
        "# Step 3 - Creating the model"
      ]
    },
    {
      "cell_type": "code",
      "metadata": {
        "id": "-Ku4xkgAkV5n",
        "colab_type": "code",
        "colab": {}
      },
      "source": [
        "cv = CountVectorizer()\n",
        "count_matrix = cv.fit_transform(data['comb'])\n",
        "similarity = cosine_similarity(count_matrix)"
      ],
      "execution_count": 3,
      "outputs": []
    },
    {
      "cell_type": "markdown",
      "metadata": {
        "id": "4YviAljAkZxi",
        "colab_type": "text"
      },
      "source": [
        "# Step 4 - Recommending movies to user based on given movie"
      ]
    },
    {
      "cell_type": "code",
      "metadata": {
        "id": "l30TpXGGkePv",
        "colab_type": "code",
        "colab": {}
      },
      "source": [
        "movie = \"the hangover\"\n",
        "movie = movie.lower()\n",
        "movie_titles = list(data['movie_title'])\n",
        "\n",
        "if(movie not in movie_titles):\n",
        "  print('Sorry! The movie you requested is not in our database. Please check the spelling or try with some other movies')\n",
        "\n",
        "else:\n",
        "  indexofmovie = data.loc[data['movie_title']==movie].index[0]\n",
        "  listofsimilarity = list(enumerate(similarity[indexofmovie]))\n",
        "  listofsimilarity = sorted(listofsimilarity, key = lambda x:x[1] ,reverse=True) #Selecting first 10 most similar\n",
        "  listofsimilarity = listofsimilarity[1:11]                         # excluding first item since it is the requested movie itself\n",
        "  recommendations = []\n",
        "  \n",
        "  for i in range(len(listofsimilarity)):\n",
        "    a = listofsimilarity[i][0]\n",
        "    recommendations.append(data['movie_title'][a])"
      ],
      "execution_count": 4,
      "outputs": []
    },
    {
      "cell_type": "code",
      "metadata": {
        "id": "9gOwC8RakjMB",
        "colab_type": "code",
        "colab": {
          "base_uri": "https://localhost:8080/",
          "height": 54
        },
        "outputId": "2349fb9c-11e2-4dee-bda9-5bac83883f4f"
      },
      "source": [
        "print(recommendations)"
      ],
      "execution_count": 5,
      "outputs": [
        {
          "output_type": "stream",
          "text": [
            "['the hangover part ii', 'a star is born', 'the internship', 'dumb and dumber to', 'old school', 'school for scoundrels', 'road trip', 'the goods: live hard, sell hard', 'next friday', 'fifty shades of black']\n"
          ],
          "name": "stdout"
        }
      ]
    },
    {
      "cell_type": "markdown",
      "metadata": {
        "id": "ZM_ac1uEkl-Y",
        "colab_type": "text"
      },
      "source": [
        "**Conclusion**\n",
        "\n",
        "Given above are recommended movies based on user search for 'the hangover'.\n",
        "\n",
        "Now scrapping and prediction of movie reviews are left, which will be doing in Review Analysis.ipynb and Predicting Reviews.ipynb files."
      ]
    }
  ]
}