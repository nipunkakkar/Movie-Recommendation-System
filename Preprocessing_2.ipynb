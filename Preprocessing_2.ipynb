{
  "nbformat": 4,
  "nbformat_minor": 0,
  "metadata": {
    "colab": {
      "name": "Preprocessing 2.ipynb",
      "provenance": [],
      "collapsed_sections": []
    },
    "kernelspec": {
      "name": "python3",
      "display_name": "Python 3"
    }
  },
  "cells": [
    {
      "cell_type": "markdown",
      "metadata": {
        "id": "K3DHf8-jZd6L",
        "colab_type": "text"
      },
      "source": [
        "**Preprocessing 2**\n",
        "\n",
        "This notebook is in continuation with Preprocessing 1 where we saved complete.csv file, here we will be loading it process it further.\n",
        "\n",
        "Since in earlier file we had data for movies only upto year 2017, we will be getting data related to movies released in 2019, 2019 and 2020 from wikepedia in this file."
      ]
    },
    {
      "cell_type": "code",
      "metadata": {
        "id": "rSzPif-FggKC",
        "colab_type": "code",
        "colab": {
          "base_uri": "https://localhost:8080/",
          "height": 196
        },
        "outputId": "96f01f62-b55f-4f8c-d0f0-a8b413ece5cf"
      },
      "source": [
        "!pip install tmdbv3api"
      ],
      "execution_count": 9,
      "outputs": [
        {
          "output_type": "stream",
          "text": [
            "Collecting tmdbv3api\n",
            "  Downloading https://files.pythonhosted.org/packages/3e/03/e7ae6cb2777876f8d412e45c74abc639c77e1c91a97d73a99d542f4c43b0/tmdbv3api-1.6.2-py2.py3-none-any.whl\n",
            "Requirement already satisfied: requests in /usr/local/lib/python3.6/dist-packages (from tmdbv3api) (2.23.0)\n",
            "Requirement already satisfied: certifi>=2017.4.17 in /usr/local/lib/python3.6/dist-packages (from requests->tmdbv3api) (2020.6.20)\n",
            "Requirement already satisfied: idna<3,>=2.5 in /usr/local/lib/python3.6/dist-packages (from requests->tmdbv3api) (2.10)\n",
            "Requirement already satisfied: chardet<4,>=3.0.2 in /usr/local/lib/python3.6/dist-packages (from requests->tmdbv3api) (3.0.4)\n",
            "Requirement already satisfied: urllib3!=1.25.0,!=1.25.1,<1.26,>=1.21.1 in /usr/local/lib/python3.6/dist-packages (from requests->tmdbv3api) (1.24.3)\n",
            "Installing collected packages: tmdbv3api\n",
            "Successfully installed tmdbv3api-1.6.2\n"
          ],
          "name": "stdout"
        }
      ]
    },
    {
      "cell_type": "markdown",
      "metadata": {
        "id": "FvemwYE6ZtED",
        "colab_type": "text"
      },
      "source": [
        "# Step 1 - Importing the librararies"
      ]
    },
    {
      "cell_type": "code",
      "metadata": {
        "id": "aQb5JUBUZq1c",
        "colab_type": "code",
        "colab": {
          "base_uri": "https://localhost:8080/",
          "height": 72
        },
        "outputId": "d3bedc3a-3e76-4032-f717-d512783a6e7b"
      },
      "source": [
        "import numpy as np\n",
        "import pandas as pd\n",
        "import matplotlib.pyplot as plt\n",
        "import seaborn as sb\n",
        "sb.set()"
      ],
      "execution_count": 1,
      "outputs": [
        {
          "output_type": "stream",
          "text": [
            "/usr/local/lib/python3.6/dist-packages/statsmodels/tools/_testing.py:19: FutureWarning: pandas.util.testing is deprecated. Use the functions in the public API at pandas.testing instead.\n",
            "  import pandas.util.testing as tm\n"
          ],
          "name": "stderr"
        }
      ]
    },
    {
      "cell_type": "markdown",
      "metadata": {
        "id": "2XiEzBQLZztq",
        "colab_type": "text"
      },
      "source": [
        "# Step 2 - Loading complete.csv file , which was saved earlier"
      ]
    },
    {
      "cell_type": "code",
      "metadata": {
        "id": "xGgp-7zeZ3ey",
        "colab_type": "code",
        "colab": {
          "base_uri": "https://localhost:8080/",
          "height": 281
        },
        "outputId": "4707b3d3-44a7-461e-adbf-1313caeec0d3"
      },
      "source": [
        "complete = pd.read_csv('/content/drive/My Drive/Data Science Projects/dataset_movies/complete.csv')\n",
        "complete.head()"
      ],
      "execution_count": 3,
      "outputs": [
        {
          "output_type": "execute_result",
          "data": {
            "text/html": [
              "<div>\n",
              "<style scoped>\n",
              "    .dataframe tbody tr th:only-of-type {\n",
              "        vertical-align: middle;\n",
              "    }\n",
              "\n",
              "    .dataframe tbody tr th {\n",
              "        vertical-align: top;\n",
              "    }\n",
              "\n",
              "    .dataframe thead th {\n",
              "        text-align: right;\n",
              "    }\n",
              "</style>\n",
              "<table border=\"1\" class=\"dataframe\">\n",
              "  <thead>\n",
              "    <tr style=\"text-align: right;\">\n",
              "      <th></th>\n",
              "      <th>director_name</th>\n",
              "      <th>actor_1_name</th>\n",
              "      <th>actor_2_name</th>\n",
              "      <th>actor_3_name</th>\n",
              "      <th>genres</th>\n",
              "      <th>movie_title</th>\n",
              "      <th>comb</th>\n",
              "    </tr>\n",
              "  </thead>\n",
              "  <tbody>\n",
              "    <tr>\n",
              "      <th>0</th>\n",
              "      <td>James Cameron</td>\n",
              "      <td>CCH Pounder</td>\n",
              "      <td>Joel David Moore</td>\n",
              "      <td>Wes Studi</td>\n",
              "      <td>Action Adventure Fantasy Sci-Fi</td>\n",
              "      <td>avatar</td>\n",
              "      <td>James Cameron CCH Pounder Joel David Moore Wes...</td>\n",
              "    </tr>\n",
              "    <tr>\n",
              "      <th>1</th>\n",
              "      <td>Gore Verbinski</td>\n",
              "      <td>Johnny Depp</td>\n",
              "      <td>Orlando Bloom</td>\n",
              "      <td>Jack Davenport</td>\n",
              "      <td>Action Adventure Fantasy</td>\n",
              "      <td>pirates of the caribbean: at world's end</td>\n",
              "      <td>Gore Verbinski Johnny Depp Orlando Bloom Jack ...</td>\n",
              "    </tr>\n",
              "    <tr>\n",
              "      <th>2</th>\n",
              "      <td>Sam Mendes</td>\n",
              "      <td>Christoph Waltz</td>\n",
              "      <td>Rory Kinnear</td>\n",
              "      <td>Stephanie Sigman</td>\n",
              "      <td>Action Adventure Thriller</td>\n",
              "      <td>spectre</td>\n",
              "      <td>Sam Mendes Christoph Waltz Rory Kinnear Stepha...</td>\n",
              "    </tr>\n",
              "    <tr>\n",
              "      <th>3</th>\n",
              "      <td>Christopher Nolan</td>\n",
              "      <td>Tom Hardy</td>\n",
              "      <td>Christian Bale</td>\n",
              "      <td>Joseph Gordon-Levitt</td>\n",
              "      <td>Action Thriller</td>\n",
              "      <td>the dark knight rises</td>\n",
              "      <td>Christopher Nolan Tom Hardy Christian Bale Jos...</td>\n",
              "    </tr>\n",
              "    <tr>\n",
              "      <th>4</th>\n",
              "      <td>Andrew Stanton</td>\n",
              "      <td>Daryl Sabara</td>\n",
              "      <td>Samantha Morton</td>\n",
              "      <td>Polly Walker</td>\n",
              "      <td>Action Adventure Sci-Fi</td>\n",
              "      <td>john carter</td>\n",
              "      <td>Andrew Stanton Daryl Sabara Samantha Morton Po...</td>\n",
              "    </tr>\n",
              "  </tbody>\n",
              "</table>\n",
              "</div>"
            ],
            "text/plain": [
              "       director_name  ...                                               comb\n",
              "0      James Cameron  ...  James Cameron CCH Pounder Joel David Moore Wes...\n",
              "1     Gore Verbinski  ...  Gore Verbinski Johnny Depp Orlando Bloom Jack ...\n",
              "2         Sam Mendes  ...  Sam Mendes Christoph Waltz Rory Kinnear Stepha...\n",
              "3  Christopher Nolan  ...  Christopher Nolan Tom Hardy Christian Bale Jos...\n",
              "4     Andrew Stanton  ...  Andrew Stanton Daryl Sabara Samantha Morton Po...\n",
              "\n",
              "[5 rows x 7 columns]"
            ]
          },
          "metadata": {
            "tags": []
          },
          "execution_count": 3
        }
      ]
    },
    {
      "cell_type": "markdown",
      "metadata": {
        "id": "uKheECz7aNYW",
        "colab_type": "text"
      },
      "source": [
        "# Step 3 - Getting data for movies released in 2018, 2019 and 2020 from wikepedia using Web Scrapping"
      ]
    },
    {
      "cell_type": "code",
      "metadata": {
        "id": "j1-GlYFPaVE9",
        "colab_type": "code",
        "colab": {}
      },
      "source": [
        "link2018 = 'https://en.wikipedia.org/wiki/List_of_American_films_of_2018'\n",
        "link2019 = 'https://en.wikipedia.org/wiki/List_of_American_films_of_2019'\n",
        "link2020 = 'https://en.wikipedia.org/wiki/List_of_American_films_of_2020'"
      ],
      "execution_count": 4,
      "outputs": []
    },
    {
      "cell_type": "code",
      "metadata": {
        "id": "Wg7lFk8naX5i",
        "colab_type": "code",
        "colab": {
          "base_uri": "https://localhost:8080/",
          "height": 197
        },
        "outputId": "65261241-7dcc-4a8e-80f9-e1fd83826a68"
      },
      "source": [
        "# Getting data from 2nd, 3rd, 4th and 5th table of webpage\n",
        "\n",
        "df1 = pd.read_html(link2018, header = 0)[2] #Default header is 0 only\n",
        "df2 = pd.read_html(link2018)[3]\n",
        "df3 = pd.read_html(link2018)[4]\n",
        "df4 = pd.read_html(link2018)[5]\n",
        "\n",
        "df5 = pd.read_html(link2019, header = 0)[3] #Default header is 0 only\n",
        "df6 = pd.read_html(link2019)[4]\n",
        "df7 = pd.read_html(link2019)[5]\n",
        "df8 = pd.read_html(link2019)[6]\n",
        "\n",
        "df9 = pd.read_html(link2020, header = 0)[3] #Default header is 0 only\n",
        "df10 = pd.read_html(link2020)[4]\n",
        "df11 = pd.read_html(link2020)[5]\n",
        "df12 = pd.read_html(link2020)[6]\n",
        "\n",
        "df = pd.concat([df1, df2, df3, df4, df5, df6, df7, df8, df9, df10, df11, df12], axis = 0)\n",
        "df.head()"
      ],
      "execution_count": 5,
      "outputs": [
        {
          "output_type": "execute_result",
          "data": {
            "text/html": [
              "<div>\n",
              "<style scoped>\n",
              "    .dataframe tbody tr th:only-of-type {\n",
              "        vertical-align: middle;\n",
              "    }\n",
              "\n",
              "    .dataframe tbody tr th {\n",
              "        vertical-align: top;\n",
              "    }\n",
              "\n",
              "    .dataframe thead th {\n",
              "        text-align: right;\n",
              "    }\n",
              "</style>\n",
              "<table border=\"1\" class=\"dataframe\">\n",
              "  <thead>\n",
              "    <tr style=\"text-align: right;\">\n",
              "      <th></th>\n",
              "      <th>Opening</th>\n",
              "      <th>Opening.1</th>\n",
              "      <th>Title</th>\n",
              "      <th>Production company</th>\n",
              "      <th>Cast and crew</th>\n",
              "      <th>Ref.</th>\n",
              "    </tr>\n",
              "  </thead>\n",
              "  <tbody>\n",
              "    <tr>\n",
              "      <th>0</th>\n",
              "      <td>JANUARY</td>\n",
              "      <td>5</td>\n",
              "      <td>Insidious: The Last Key</td>\n",
              "      <td>Universal Pictures / Blumhouse Productions / S...</td>\n",
              "      <td>Adam Robitel (director); Leigh Whannell (scree...</td>\n",
              "      <td>[2]</td>\n",
              "    </tr>\n",
              "    <tr>\n",
              "      <th>1</th>\n",
              "      <td>JANUARY</td>\n",
              "      <td>5</td>\n",
              "      <td>The Strange Ones</td>\n",
              "      <td>Vertical Entertainment</td>\n",
              "      <td>Lauren Wolkstein (director); Christopher Radcl...</td>\n",
              "      <td>[3]</td>\n",
              "    </tr>\n",
              "    <tr>\n",
              "      <th>2</th>\n",
              "      <td>JANUARY</td>\n",
              "      <td>5</td>\n",
              "      <td>Stratton</td>\n",
              "      <td>Momentum Pictures</td>\n",
              "      <td>Simon West (director); Duncan Falconer, Warren...</td>\n",
              "      <td>[4]</td>\n",
              "    </tr>\n",
              "    <tr>\n",
              "      <th>3</th>\n",
              "      <td>JANUARY</td>\n",
              "      <td>10</td>\n",
              "      <td>Sweet Country</td>\n",
              "      <td>Samuel Goldwyn Films</td>\n",
              "      <td>Warwick Thornton (director); David Tranter, St...</td>\n",
              "      <td>[5]</td>\n",
              "    </tr>\n",
              "    <tr>\n",
              "      <th>4</th>\n",
              "      <td>JANUARY</td>\n",
              "      <td>12</td>\n",
              "      <td>The Commuter</td>\n",
              "      <td>Lionsgate / StudioCanal / The Picture Company</td>\n",
              "      <td>Jaume Collet-Serra (director); Byron Willinger...</td>\n",
              "      <td>[6]</td>\n",
              "    </tr>\n",
              "  </tbody>\n",
              "</table>\n",
              "</div>"
            ],
            "text/plain": [
              "   Opening  Opening.1  ...                                      Cast and crew Ref.\n",
              "0  JANUARY          5  ...  Adam Robitel (director); Leigh Whannell (scree...  [2]\n",
              "1  JANUARY          5  ...  Lauren Wolkstein (director); Christopher Radcl...  [3]\n",
              "2  JANUARY          5  ...  Simon West (director); Duncan Falconer, Warren...  [4]\n",
              "3  JANUARY         10  ...  Warwick Thornton (director); David Tranter, St...  [5]\n",
              "4  JANUARY         12  ...  Jaume Collet-Serra (director); Byron Willinger...  [6]\n",
              "\n",
              "[5 rows x 6 columns]"
            ]
          },
          "metadata": {
            "tags": []
          },
          "execution_count": 5
        }
      ]
    },
    {
      "cell_type": "code",
      "metadata": {
        "id": "P2FGwXRgai16",
        "colab_type": "code",
        "colab": {
          "base_uri": "https://localhost:8080/",
          "height": 197
        },
        "outputId": "2b437c66-767e-437f-afd3-ca91e3f06c90"
      },
      "source": [
        "df.tail()"
      ],
      "execution_count": 6,
      "outputs": [
        {
          "output_type": "execute_result",
          "data": {
            "text/html": [
              "<div>\n",
              "<style scoped>\n",
              "    .dataframe tbody tr th:only-of-type {\n",
              "        vertical-align: middle;\n",
              "    }\n",
              "\n",
              "    .dataframe tbody tr th {\n",
              "        vertical-align: top;\n",
              "    }\n",
              "\n",
              "    .dataframe thead th {\n",
              "        text-align: right;\n",
              "    }\n",
              "</style>\n",
              "<table border=\"1\" class=\"dataframe\">\n",
              "  <thead>\n",
              "    <tr style=\"text-align: right;\">\n",
              "      <th></th>\n",
              "      <th>Opening</th>\n",
              "      <th>Opening.1</th>\n",
              "      <th>Title</th>\n",
              "      <th>Production company</th>\n",
              "      <th>Cast and crew</th>\n",
              "      <th>Ref.</th>\n",
              "    </tr>\n",
              "  </thead>\n",
              "  <tbody>\n",
              "    <tr>\n",
              "      <th>22</th>\n",
              "      <td>DECEMBER</td>\n",
              "      <td>18</td>\n",
              "      <td>Dune</td>\n",
              "      <td>Warner Bros. Pictures / Legendary Entertainment</td>\n",
              "      <td>Denis Villeneuve (director/screenplay); Jon Sp...</td>\n",
              "      <td>[152]</td>\n",
              "    </tr>\n",
              "    <tr>\n",
              "      <th>23</th>\n",
              "      <td>DECEMBER</td>\n",
              "      <td>18</td>\n",
              "      <td>West Side Story</td>\n",
              "      <td>20th Century Studios / Amblin Entertainment</td>\n",
              "      <td>Steven Spielberg (director); Tony Kushner (scr...</td>\n",
              "      <td>[3]</td>\n",
              "    </tr>\n",
              "    <tr>\n",
              "      <th>24</th>\n",
              "      <td>DECEMBER</td>\n",
              "      <td>18</td>\n",
              "      <td>Coming 2 America</td>\n",
              "      <td>Paramount Pictures</td>\n",
              "      <td>Craig Brewer (director); Kenya Barris, Barry W...</td>\n",
              "      <td>[153]</td>\n",
              "    </tr>\n",
              "    <tr>\n",
              "      <th>25</th>\n",
              "      <td>DECEMBER</td>\n",
              "      <td>23</td>\n",
              "      <td>The Croods 2</td>\n",
              "      <td>Universal Pictures / DreamWorks Animation</td>\n",
              "      <td>Joel Crawford (director); Kevin Hageman, Dan H...</td>\n",
              "      <td>[154]</td>\n",
              "    </tr>\n",
              "    <tr>\n",
              "      <th>26</th>\n",
              "      <td>DECEMBER</td>\n",
              "      <td>25</td>\n",
              "      <td>News of the World</td>\n",
              "      <td>Universal Pictures</td>\n",
              "      <td>Paul Greengrass (director/screenplay); Luke Da...</td>\n",
              "      <td>[155]</td>\n",
              "    </tr>\n",
              "  </tbody>\n",
              "</table>\n",
              "</div>"
            ],
            "text/plain": [
              "     Opening  ...   Ref.\n",
              "22  DECEMBER  ...  [152]\n",
              "23  DECEMBER  ...    [3]\n",
              "24  DECEMBER  ...  [153]\n",
              "25  DECEMBER  ...  [154]\n",
              "26  DECEMBER  ...  [155]\n",
              "\n",
              "[5 rows x 6 columns]"
            ]
          },
          "metadata": {
            "tags": []
          },
          "execution_count": 6
        }
      ]
    },
    {
      "cell_type": "code",
      "metadata": {
        "id": "LOvjAzg_amMb",
        "colab_type": "code",
        "colab": {
          "base_uri": "https://localhost:8080/",
          "height": 197
        },
        "outputId": "52ee7b94-270d-4a31-cec9-b2132abd4dfd"
      },
      "source": [
        "# Dropping some unnecessary columns\n",
        "\n",
        "df.drop(['Opening','Opening.1','Production company','Ref.'], axis = 1, inplace = True)\n",
        "df.rename(columns = {'Title':'movie_title'}, inplace = True)\n",
        "\n",
        "df.head()"
      ],
      "execution_count": 7,
      "outputs": [
        {
          "output_type": "execute_result",
          "data": {
            "text/html": [
              "<div>\n",
              "<style scoped>\n",
              "    .dataframe tbody tr th:only-of-type {\n",
              "        vertical-align: middle;\n",
              "    }\n",
              "\n",
              "    .dataframe tbody tr th {\n",
              "        vertical-align: top;\n",
              "    }\n",
              "\n",
              "    .dataframe thead th {\n",
              "        text-align: right;\n",
              "    }\n",
              "</style>\n",
              "<table border=\"1\" class=\"dataframe\">\n",
              "  <thead>\n",
              "    <tr style=\"text-align: right;\">\n",
              "      <th></th>\n",
              "      <th>movie_title</th>\n",
              "      <th>Cast and crew</th>\n",
              "    </tr>\n",
              "  </thead>\n",
              "  <tbody>\n",
              "    <tr>\n",
              "      <th>0</th>\n",
              "      <td>Insidious: The Last Key</td>\n",
              "      <td>Adam Robitel (director); Leigh Whannell (scree...</td>\n",
              "    </tr>\n",
              "    <tr>\n",
              "      <th>1</th>\n",
              "      <td>The Strange Ones</td>\n",
              "      <td>Lauren Wolkstein (director); Christopher Radcl...</td>\n",
              "    </tr>\n",
              "    <tr>\n",
              "      <th>2</th>\n",
              "      <td>Stratton</td>\n",
              "      <td>Simon West (director); Duncan Falconer, Warren...</td>\n",
              "    </tr>\n",
              "    <tr>\n",
              "      <th>3</th>\n",
              "      <td>Sweet Country</td>\n",
              "      <td>Warwick Thornton (director); David Tranter, St...</td>\n",
              "    </tr>\n",
              "    <tr>\n",
              "      <th>4</th>\n",
              "      <td>The Commuter</td>\n",
              "      <td>Jaume Collet-Serra (director); Byron Willinger...</td>\n",
              "    </tr>\n",
              "  </tbody>\n",
              "</table>\n",
              "</div>"
            ],
            "text/plain": [
              "               movie_title                                      Cast and crew\n",
              "0  Insidious: The Last Key  Adam Robitel (director); Leigh Whannell (scree...\n",
              "1         The Strange Ones  Lauren Wolkstein (director); Christopher Radcl...\n",
              "2                 Stratton  Simon West (director); Duncan Falconer, Warren...\n",
              "3            Sweet Country  Warwick Thornton (director); David Tranter, St...\n",
              "4             The Commuter  Jaume Collet-Serra (director); Byron Willinger..."
            ]
          },
          "metadata": {
            "tags": []
          },
          "execution_count": 7
        }
      ]
    },
    {
      "cell_type": "markdown",
      "metadata": {
        "id": "1749K5whgLMz",
        "colab_type": "text"
      },
      "source": [
        "# Step 4 - Gettiing Genres info from title column and api from themoviedb.com"
      ]
    },
    {
      "cell_type": "code",
      "metadata": {
        "id": "0McczNiwgVKZ",
        "colab_type": "code",
        "colab": {
          "base_uri": "https://localhost:8080/",
          "height": 197
        },
        "outputId": "8b99a5e8-62de-49da-e2d3-a904d663942a"
      },
      "source": [
        "from tmdbv3api import TMDb, Movie\n",
        "import json\n",
        "import requests\n",
        "\n",
        "tmdb = TMDb()\n",
        "tmdb.api_key ='5492165c61b1a21c06eb3a3b578a6339' \n",
        "\n",
        "tmdb_movie = Movie()\n",
        "\n",
        "def get_genres(x):\n",
        "  genres = []\n",
        "  string = \" \"\n",
        "  \n",
        "  result = tmdb_movie.search(x)\n",
        "  movie_id = result[0].id\n",
        "  response = requests.get('https://api.themoviedb.org/3/movie/{}?api_key={}'.format(movie_id, tmdb.api_key))\n",
        "  data_json = response.json()\n",
        "  \n",
        "  if(data_json['genres']):\n",
        "    \n",
        "    for i in range (0, len(data_json['genres'])):\n",
        "      genres.append(data_json['genres'][i]['name'])\n",
        "      \n",
        "    return string.join(genres)\n",
        "  \n",
        "  else:\n",
        "    return np.nan\n",
        "\n",
        "df['genres'] = df['movie_title'].map(lambda x: get_genres(x))\n",
        "\n",
        "df.head()"
      ],
      "execution_count": 10,
      "outputs": [
        {
          "output_type": "execute_result",
          "data": {
            "text/html": [
              "<div>\n",
              "<style scoped>\n",
              "    .dataframe tbody tr th:only-of-type {\n",
              "        vertical-align: middle;\n",
              "    }\n",
              "\n",
              "    .dataframe tbody tr th {\n",
              "        vertical-align: top;\n",
              "    }\n",
              "\n",
              "    .dataframe thead th {\n",
              "        text-align: right;\n",
              "    }\n",
              "</style>\n",
              "<table border=\"1\" class=\"dataframe\">\n",
              "  <thead>\n",
              "    <tr style=\"text-align: right;\">\n",
              "      <th></th>\n",
              "      <th>movie_title</th>\n",
              "      <th>Cast and crew</th>\n",
              "      <th>genres</th>\n",
              "    </tr>\n",
              "  </thead>\n",
              "  <tbody>\n",
              "    <tr>\n",
              "      <th>0</th>\n",
              "      <td>Insidious: The Last Key</td>\n",
              "      <td>Adam Robitel (director); Leigh Whannell (scree...</td>\n",
              "      <td>Mystery Horror Thriller</td>\n",
              "    </tr>\n",
              "    <tr>\n",
              "      <th>1</th>\n",
              "      <td>The Strange Ones</td>\n",
              "      <td>Lauren Wolkstein (director); Christopher Radcl...</td>\n",
              "      <td>Thriller Drama</td>\n",
              "    </tr>\n",
              "    <tr>\n",
              "      <th>2</th>\n",
              "      <td>Stratton</td>\n",
              "      <td>Simon West (director); Duncan Falconer, Warren...</td>\n",
              "      <td>Action Thriller</td>\n",
              "    </tr>\n",
              "    <tr>\n",
              "      <th>3</th>\n",
              "      <td>Sweet Country</td>\n",
              "      <td>Warwick Thornton (director); David Tranter, St...</td>\n",
              "      <td>Drama History Western</td>\n",
              "    </tr>\n",
              "    <tr>\n",
              "      <th>4</th>\n",
              "      <td>The Commuter</td>\n",
              "      <td>Jaume Collet-Serra (director); Byron Willinger...</td>\n",
              "      <td>Action Thriller</td>\n",
              "    </tr>\n",
              "  </tbody>\n",
              "</table>\n",
              "</div>"
            ],
            "text/plain": [
              "               movie_title  ...                   genres\n",
              "0  Insidious: The Last Key  ...  Mystery Horror Thriller\n",
              "1         The Strange Ones  ...           Thriller Drama\n",
              "2                 Stratton  ...          Action Thriller\n",
              "3            Sweet Country  ...    Drama History Western\n",
              "4             The Commuter  ...          Action Thriller\n",
              "\n",
              "[5 rows x 3 columns]"
            ]
          },
          "metadata": {
            "tags": []
          },
          "execution_count": 10
        }
      ]
    },
    {
      "cell_type": "markdown",
      "metadata": {
        "id": "mu7p5Y9kirzY",
        "colab_type": "text"
      },
      "source": [
        "# Step 5 - Preprocessing Cast and Crew column"
      ]
    },
    {
      "cell_type": "code",
      "metadata": {
        "id": "IViS5f1VivG6",
        "colab_type": "code",
        "colab": {
          "base_uri": "https://localhost:8080/",
          "height": 281
        },
        "outputId": "d1b9addf-ec7d-4719-e5ea-b1c27c54852e"
      },
      "source": [
        "def get_director(x):\n",
        "  \n",
        "  if \" (director)\" in x:\n",
        "    return x.split(\" (director)\")[0]\n",
        "  elif(\" (directors\") in x:\n",
        "    return x.split(\" (directors)\")[0]\n",
        "  else:\n",
        "    return x.split(\" (director/screenplay)\")[0]\n",
        "\n",
        "def get_actor1(x):\n",
        "  return (x.split('screenplay); ')[-1].split(', ')[0])\n",
        "\n",
        "def get_actor2(x):\n",
        "  \n",
        "  if(len(x.split('screenplay); ')[-1].split(', '))>1):\n",
        "    return (x.split('screenplay); ')[-1].split(', ')[1])\n",
        "  else:\n",
        "    return np.nan\n",
        "\n",
        "def get_actor3(x):\n",
        "  \n",
        "  if(len(x.split('screenplay); ')[-1].split(', '))>2):\n",
        "    return (x.split('screenplay); ')[-1].split(', ')[2])\n",
        "  else:\n",
        "    return np.nan\n",
        "  \n",
        "  \n",
        "df['director_name'] = df['Cast and crew'].map(lambda x: get_director(x))\n",
        "df['actor_1_name'] = df['Cast and crew'].map(lambda x: get_actor1(x))\n",
        "df['actor_2_name'] = df['Cast and crew'].map(lambda x: get_actor2(x))\n",
        "df['actor_3_name'] = df['Cast and crew'].map(lambda x: get_actor3(x))\n",
        "\n",
        "df.head()"
      ],
      "execution_count": 11,
      "outputs": [
        {
          "output_type": "execute_result",
          "data": {
            "text/html": [
              "<div>\n",
              "<style scoped>\n",
              "    .dataframe tbody tr th:only-of-type {\n",
              "        vertical-align: middle;\n",
              "    }\n",
              "\n",
              "    .dataframe tbody tr th {\n",
              "        vertical-align: top;\n",
              "    }\n",
              "\n",
              "    .dataframe thead th {\n",
              "        text-align: right;\n",
              "    }\n",
              "</style>\n",
              "<table border=\"1\" class=\"dataframe\">\n",
              "  <thead>\n",
              "    <tr style=\"text-align: right;\">\n",
              "      <th></th>\n",
              "      <th>movie_title</th>\n",
              "      <th>Cast and crew</th>\n",
              "      <th>genres</th>\n",
              "      <th>director_name</th>\n",
              "      <th>actor_1_name</th>\n",
              "      <th>actor_2_name</th>\n",
              "      <th>actor_3_name</th>\n",
              "    </tr>\n",
              "  </thead>\n",
              "  <tbody>\n",
              "    <tr>\n",
              "      <th>0</th>\n",
              "      <td>Insidious: The Last Key</td>\n",
              "      <td>Adam Robitel (director); Leigh Whannell (scree...</td>\n",
              "      <td>Mystery Horror Thriller</td>\n",
              "      <td>Adam Robitel</td>\n",
              "      <td>Lin Shaye</td>\n",
              "      <td>Angus Sampson</td>\n",
              "      <td>Leigh Whannell</td>\n",
              "    </tr>\n",
              "    <tr>\n",
              "      <th>1</th>\n",
              "      <td>The Strange Ones</td>\n",
              "      <td>Lauren Wolkstein (director); Christopher Radcl...</td>\n",
              "      <td>Thriller Drama</td>\n",
              "      <td>Lauren Wolkstein</td>\n",
              "      <td>Alex Pettyfer</td>\n",
              "      <td>James Freedson-Jackson</td>\n",
              "      <td>Emily Althaus</td>\n",
              "    </tr>\n",
              "    <tr>\n",
              "      <th>2</th>\n",
              "      <td>Stratton</td>\n",
              "      <td>Simon West (director); Duncan Falconer, Warren...</td>\n",
              "      <td>Action Thriller</td>\n",
              "      <td>Simon West</td>\n",
              "      <td>Dominic Cooper</td>\n",
              "      <td>Austin Stowell</td>\n",
              "      <td>Gemma Chan</td>\n",
              "    </tr>\n",
              "    <tr>\n",
              "      <th>3</th>\n",
              "      <td>Sweet Country</td>\n",
              "      <td>Warwick Thornton (director); David Tranter, St...</td>\n",
              "      <td>Drama History Western</td>\n",
              "      <td>Warwick Thornton</td>\n",
              "      <td>Bryan Brown</td>\n",
              "      <td>Sam Neill</td>\n",
              "      <td>NaN</td>\n",
              "    </tr>\n",
              "    <tr>\n",
              "      <th>4</th>\n",
              "      <td>The Commuter</td>\n",
              "      <td>Jaume Collet-Serra (director); Byron Willinger...</td>\n",
              "      <td>Action Thriller</td>\n",
              "      <td>Jaume Collet-Serra</td>\n",
              "      <td>Liam Neeson</td>\n",
              "      <td>Vera Farmiga</td>\n",
              "      <td>Patrick Wilson</td>\n",
              "    </tr>\n",
              "  </tbody>\n",
              "</table>\n",
              "</div>"
            ],
            "text/plain": [
              "               movie_title  ...    actor_3_name\n",
              "0  Insidious: The Last Key  ...  Leigh Whannell\n",
              "1         The Strange Ones  ...   Emily Althaus\n",
              "2                 Stratton  ...      Gemma Chan\n",
              "3            Sweet Country  ...             NaN\n",
              "4             The Commuter  ...  Patrick Wilson\n",
              "\n",
              "[5 rows x 7 columns]"
            ]
          },
          "metadata": {
            "tags": []
          },
          "execution_count": 11
        }
      ]
    },
    {
      "cell_type": "markdown",
      "metadata": {
        "id": "YKduvR5LiziC",
        "colab_type": "text"
      },
      "source": [
        "# Step 6 - Finalizing the data and exporting it to final.csv"
      ]
    },
    {
      "cell_type": "code",
      "metadata": {
        "id": "9EuiQUcmi30E",
        "colab_type": "code",
        "colab": {}
      },
      "source": [
        "final = df.loc[:, ['director_name','actor_1_name','actor_2_name','actor_3_name','genres','movie_title']]\n",
        "\n",
        "final.dropna(inplace = True)\n",
        "\n",
        "final['movie_title'] = final['movie_title'].str.lower()\n",
        "\n",
        "final['comb'] = final['director_name'] + ' ' + final['actor_1_name'] + ' ' + final['actor_2_name'] + ' ' + final['actor_3_name'] + ' ' + final['genres']\n",
        "final = pd.concat([complete, final], axis = 0 ) # Concating with complete.csv\n",
        "\n",
        "final.to_csv('final.csv', index = False)\n"
      ],
      "execution_count": 12,
      "outputs": []
    },
    {
      "cell_type": "code",
      "metadata": {
        "id": "65Ugs8w5i9d5",
        "colab_type": "code",
        "colab": {
          "base_uri": "https://localhost:8080/",
          "height": 281
        },
        "outputId": "e6d7b1f0-0cf7-4c19-a68c-7447d4d37570"
      },
      "source": [
        "final.head()"
      ],
      "execution_count": 13,
      "outputs": [
        {
          "output_type": "execute_result",
          "data": {
            "text/html": [
              "<div>\n",
              "<style scoped>\n",
              "    .dataframe tbody tr th:only-of-type {\n",
              "        vertical-align: middle;\n",
              "    }\n",
              "\n",
              "    .dataframe tbody tr th {\n",
              "        vertical-align: top;\n",
              "    }\n",
              "\n",
              "    .dataframe thead th {\n",
              "        text-align: right;\n",
              "    }\n",
              "</style>\n",
              "<table border=\"1\" class=\"dataframe\">\n",
              "  <thead>\n",
              "    <tr style=\"text-align: right;\">\n",
              "      <th></th>\n",
              "      <th>director_name</th>\n",
              "      <th>actor_1_name</th>\n",
              "      <th>actor_2_name</th>\n",
              "      <th>actor_3_name</th>\n",
              "      <th>genres</th>\n",
              "      <th>movie_title</th>\n",
              "      <th>comb</th>\n",
              "    </tr>\n",
              "  </thead>\n",
              "  <tbody>\n",
              "    <tr>\n",
              "      <th>0</th>\n",
              "      <td>James Cameron</td>\n",
              "      <td>CCH Pounder</td>\n",
              "      <td>Joel David Moore</td>\n",
              "      <td>Wes Studi</td>\n",
              "      <td>Action Adventure Fantasy Sci-Fi</td>\n",
              "      <td>avatar</td>\n",
              "      <td>James Cameron CCH Pounder Joel David Moore Wes...</td>\n",
              "    </tr>\n",
              "    <tr>\n",
              "      <th>1</th>\n",
              "      <td>Gore Verbinski</td>\n",
              "      <td>Johnny Depp</td>\n",
              "      <td>Orlando Bloom</td>\n",
              "      <td>Jack Davenport</td>\n",
              "      <td>Action Adventure Fantasy</td>\n",
              "      <td>pirates of the caribbean: at world's end</td>\n",
              "      <td>Gore Verbinski Johnny Depp Orlando Bloom Jack ...</td>\n",
              "    </tr>\n",
              "    <tr>\n",
              "      <th>2</th>\n",
              "      <td>Sam Mendes</td>\n",
              "      <td>Christoph Waltz</td>\n",
              "      <td>Rory Kinnear</td>\n",
              "      <td>Stephanie Sigman</td>\n",
              "      <td>Action Adventure Thriller</td>\n",
              "      <td>spectre</td>\n",
              "      <td>Sam Mendes Christoph Waltz Rory Kinnear Stepha...</td>\n",
              "    </tr>\n",
              "    <tr>\n",
              "      <th>3</th>\n",
              "      <td>Christopher Nolan</td>\n",
              "      <td>Tom Hardy</td>\n",
              "      <td>Christian Bale</td>\n",
              "      <td>Joseph Gordon-Levitt</td>\n",
              "      <td>Action Thriller</td>\n",
              "      <td>the dark knight rises</td>\n",
              "      <td>Christopher Nolan Tom Hardy Christian Bale Jos...</td>\n",
              "    </tr>\n",
              "    <tr>\n",
              "      <th>4</th>\n",
              "      <td>Andrew Stanton</td>\n",
              "      <td>Daryl Sabara</td>\n",
              "      <td>Samantha Morton</td>\n",
              "      <td>Polly Walker</td>\n",
              "      <td>Action Adventure Sci-Fi</td>\n",
              "      <td>john carter</td>\n",
              "      <td>Andrew Stanton Daryl Sabara Samantha Morton Po...</td>\n",
              "    </tr>\n",
              "  </tbody>\n",
              "</table>\n",
              "</div>"
            ],
            "text/plain": [
              "       director_name  ...                                               comb\n",
              "0      James Cameron  ...  James Cameron CCH Pounder Joel David Moore Wes...\n",
              "1     Gore Verbinski  ...  Gore Verbinski Johnny Depp Orlando Bloom Jack ...\n",
              "2         Sam Mendes  ...  Sam Mendes Christoph Waltz Rory Kinnear Stepha...\n",
              "3  Christopher Nolan  ...  Christopher Nolan Tom Hardy Christian Bale Jos...\n",
              "4     Andrew Stanton  ...  Andrew Stanton Daryl Sabara Samantha Morton Po...\n",
              "\n",
              "[5 rows x 7 columns]"
            ]
          },
          "metadata": {
            "tags": []
          },
          "execution_count": 13
        }
      ]
    }
  ]
}