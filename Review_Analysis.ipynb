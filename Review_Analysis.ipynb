{
  "nbformat": 4,
  "nbformat_minor": 0,
  "metadata": {
    "colab": {
      "name": "Review Analysis.ipynb",
      "provenance": [],
      "collapsed_sections": [],
      "toc_visible": true
    },
    "kernelspec": {
      "name": "python3",
      "display_name": "Python 3"
    },
    "accelerator": "GPU"
  },
  "cells": [
    {
      "cell_type": "markdown",
      "metadata": {
        "id": "v3EMbsnlNc_n",
        "colab_type": "text"
      },
      "source": [
        "**Problem Statement**\n",
        "\n",
        "This is a problem to identify wheather a given movie review is positive or negative.\n",
        "The reviews will be fetched from IMDB depending on which movie user selects for his recommendation, then some of the reviews from IMDB will be displayed alongside recommended movies.\n",
        "This is Natural Language Processing problem and in this notebook we will using RNN LSTM deep learning model."
      ]
    },
    {
      "cell_type": "markdown",
      "metadata": {
        "id": "g-u-Lbc5OFnS",
        "colab_type": "text"
      },
      "source": [
        "# Step 1 - Importing the libraries"
      ]
    },
    {
      "cell_type": "code",
      "metadata": {
        "id": "H2r8jY47OIHA",
        "colab_type": "code",
        "colab": {}
      },
      "source": [
        "import numpy as np\n",
        "import pandas as pd\n",
        "import matplotlib.pyplot as plt\n",
        "import tensorflow as tf\n",
        "from tensorflow.keras.models import Sequential\n",
        "from tensorflow.keras.layers import Input, LSTM, Dense, Dropout, Embedding, GlobalMaxPooling1D\n",
        "from tensorflow.keras.models import Model\n",
        "from tensorflow.keras.preprocessing.text import Tokenizer\n",
        "from tensorflow.keras.preprocessing.sequence import pad_sequences\n",
        "from tensorflow.keras.models import load_model\n",
        "import json"
      ],
      "execution_count": 1,
      "outputs": []
    },
    {
      "cell_type": "markdown",
      "metadata": {
        "id": "HvzmxC4YOVr1",
        "colab_type": "text"
      },
      "source": [
        "# Step 2 - Importing the dataset"
      ]
    },
    {
      "cell_type": "code",
      "metadata": {
        "id": "NJATHQwOOX-9",
        "colab_type": "code",
        "colab": {
          "base_uri": "https://localhost:8080/",
          "height": 197
        },
        "outputId": "33f0e0fa-244f-4977-91ee-36ce8ed125fc"
      },
      "source": [
        "data = pd.read_csv('/content/drive/My Drive/Data Science Projects/dataset_movies/imdb dataset.csv')\n",
        "data['sentiment'] = data['sentiment'].map({'positive':1, 'negative':0})\n",
        "data.head()"
      ],
      "execution_count": 2,
      "outputs": [
        {
          "output_type": "execute_result",
          "data": {
            "text/html": [
              "<div>\n",
              "<style scoped>\n",
              "    .dataframe tbody tr th:only-of-type {\n",
              "        vertical-align: middle;\n",
              "    }\n",
              "\n",
              "    .dataframe tbody tr th {\n",
              "        vertical-align: top;\n",
              "    }\n",
              "\n",
              "    .dataframe thead th {\n",
              "        text-align: right;\n",
              "    }\n",
              "</style>\n",
              "<table border=\"1\" class=\"dataframe\">\n",
              "  <thead>\n",
              "    <tr style=\"text-align: right;\">\n",
              "      <th></th>\n",
              "      <th>review</th>\n",
              "      <th>sentiment</th>\n",
              "    </tr>\n",
              "  </thead>\n",
              "  <tbody>\n",
              "    <tr>\n",
              "      <th>0</th>\n",
              "      <td>One of the other reviewers has mentioned that ...</td>\n",
              "      <td>1</td>\n",
              "    </tr>\n",
              "    <tr>\n",
              "      <th>1</th>\n",
              "      <td>A wonderful little production. &lt;br /&gt;&lt;br /&gt;The...</td>\n",
              "      <td>1</td>\n",
              "    </tr>\n",
              "    <tr>\n",
              "      <th>2</th>\n",
              "      <td>I thought this was a wonderful way to spend ti...</td>\n",
              "      <td>1</td>\n",
              "    </tr>\n",
              "    <tr>\n",
              "      <th>3</th>\n",
              "      <td>Basically there's a family where a little boy ...</td>\n",
              "      <td>0</td>\n",
              "    </tr>\n",
              "    <tr>\n",
              "      <th>4</th>\n",
              "      <td>Petter Mattei's \"Love in the Time of Money\" is...</td>\n",
              "      <td>1</td>\n",
              "    </tr>\n",
              "  </tbody>\n",
              "</table>\n",
              "</div>"
            ],
            "text/plain": [
              "                                              review  sentiment\n",
              "0  One of the other reviewers has mentioned that ...          1\n",
              "1  A wonderful little production. <br /><br />The...          1\n",
              "2  I thought this was a wonderful way to spend ti...          1\n",
              "3  Basically there's a family where a little boy ...          0\n",
              "4  Petter Mattei's \"Love in the Time of Money\" is...          1"
            ]
          },
          "metadata": {
            "tags": []
          },
          "execution_count": 2
        }
      ]
    },
    {
      "cell_type": "markdown",
      "metadata": {
        "id": "lljIJ2RNPAZO",
        "colab_type": "text"
      },
      "source": [
        "# Step 3 - Making independent variable X and dependent variable Y"
      ]
    },
    {
      "cell_type": "code",
      "metadata": {
        "id": "8eeoIcywPE4L",
        "colab_type": "code",
        "colab": {}
      },
      "source": [
        "X = data.iloc[:, 0]\n",
        "Y = data.iloc[:, 1]"
      ],
      "execution_count": 3,
      "outputs": []
    },
    {
      "cell_type": "code",
      "metadata": {
        "id": "_UJcDNYFMxnf",
        "colab_type": "code",
        "colab": {
          "base_uri": "https://localhost:8080/",
          "height": 123
        },
        "outputId": "dc6cbff0-645e-47dd-b01a-6211e9ce71af"
      },
      "source": [
        "X.head()"
      ],
      "execution_count": 4,
      "outputs": [
        {
          "output_type": "execute_result",
          "data": {
            "text/plain": [
              "0    One of the other reviewers has mentioned that ...\n",
              "1    A wonderful little production. <br /><br />The...\n",
              "2    I thought this was a wonderful way to spend ti...\n",
              "3    Basically there's a family where a little boy ...\n",
              "4    Petter Mattei's \"Love in the Time of Money\" is...\n",
              "Name: review, dtype: object"
            ]
          },
          "metadata": {
            "tags": []
          },
          "execution_count": 4
        }
      ]
    },
    {
      "cell_type": "code",
      "metadata": {
        "id": "ns-5nEIvPH2S",
        "colab_type": "code",
        "colab": {
          "base_uri": "https://localhost:8080/",
          "height": 123
        },
        "outputId": "50d1a78e-0118-4451-ccc8-2dc66dc389c8"
      },
      "source": [
        "Y.head()"
      ],
      "execution_count": 5,
      "outputs": [
        {
          "output_type": "execute_result",
          "data": {
            "text/plain": [
              "0    1\n",
              "1    1\n",
              "2    1\n",
              "3    0\n",
              "4    1\n",
              "Name: sentiment, dtype: int64"
            ]
          },
          "metadata": {
            "tags": []
          },
          "execution_count": 5
        }
      ]
    },
    {
      "cell_type": "markdown",
      "metadata": {
        "id": "SVGFUQ3-Qpdd",
        "colab_type": "text"
      },
      "source": [
        "# Step 4 - Splitting dataset into Training and Test"
      ]
    },
    {
      "cell_type": "code",
      "metadata": {
        "id": "Njh5_-2rQsUh",
        "colab_type": "code",
        "colab": {}
      },
      "source": [
        "from sklearn.model_selection import train_test_split\n",
        "\n",
        "X_train , X_test, Y_train, Y_test = train_test_split(X, Y, test_size=0.10)"
      ],
      "execution_count": 6,
      "outputs": []
    },
    {
      "cell_type": "markdown",
      "metadata": {
        "id": "I_qZTHe-NH8z",
        "colab_type": "text"
      },
      "source": [
        "# Step 5 - Tokenizing the data"
      ]
    },
    {
      "cell_type": "code",
      "metadata": {
        "id": "iBXP3YaXNrAK",
        "colab_type": "code",
        "colab": {}
      },
      "source": [
        "MAX_VOCAB_SIZE = 2000\n",
        "tokenizer = Tokenizer(num_words = MAX_VOCAB_SIZE)\n",
        "tokenizer.fit_on_texts(X_train)\n",
        "X_train = tokenizer.texts_to_sequences(X_train)\n",
        "X_test = tokenizer.texts_to_sequences(X_test)\n",
        "\n",
        "wordsindices = (tokenizer.word_index)\n",
        "\n",
        "uniquetokens = len(wordsindices)"
      ],
      "execution_count": 7,
      "outputs": []
    },
    {
      "cell_type": "code",
      "metadata": {
        "id": "vVvlmt2GQanZ",
        "colab_type": "code",
        "colab": {
          "base_uri": "https://localhost:8080/",
          "height": 34
        },
        "outputId": "58afb5ac-f0cc-4a62-db0a-22a8760ccb56"
      },
      "source": [
        "print(uniquetokens)"
      ],
      "execution_count": 8,
      "outputs": [
        {
          "output_type": "stream",
          "text": [
            "118563\n"
          ],
          "name": "stdout"
        }
      ]
    },
    {
      "cell_type": "markdown",
      "metadata": {
        "id": "lTHnfjIhQreD",
        "colab_type": "text"
      },
      "source": [
        "# Step 6 - Padding Sequences"
      ]
    },
    {
      "cell_type": "code",
      "metadata": {
        "id": "eYXZt22JQtgr",
        "colab_type": "code",
        "colab": {}
      },
      "source": [
        "X_train = pad_sequences(X_train) # Padding sequences to make tham of equal length\n",
        "\n",
        "T = X_train.shape[1]\n",
        "\n",
        "X_test = pad_sequences(X_test, maxlen = T) #Paddking according to size of X_train to make it equal\n"
      ],
      "execution_count": 9,
      "outputs": []
    },
    {
      "cell_type": "markdown",
      "metadata": {
        "id": "41rQlo4TQwx9",
        "colab_type": "text"
      },
      "source": [
        "# Step 7 - Creating Deep Learning RNN LSTM model"
      ]
    },
    {
      "cell_type": "code",
      "metadata": {
        "id": "3pvOv6HyT87I",
        "colab_type": "code",
        "colab": {
          "base_uri": "https://localhost:8080/",
          "height": 550
        },
        "outputId": "bd0ee3aa-0848-4e32-f32c-ea143e8f152d"
      },
      "source": [
        "D = 20 # We can choose dimensionality manually\n",
        "\n",
        "i = Input(shape = (T,))\n",
        "x = Embedding(uniquetokens+1, D)(i) #here we have added 1 to uniquetokens because index 0 was reserved for padding thus unique tokens are always 1 more that what is return by tokenizer.word_index\n",
        "x = LSTM(15, return_sequences = True)(x)\n",
        "x = GlobalMaxPooling1D()(x)\n",
        "x = Dense(1, activation = 'sigmoid')(x)\n",
        "\n",
        "model = Model(i, x)\n",
        "\n",
        "model.compile(optimizer = 'adam', loss = 'binary_crossentropy', metrics = ['accuracy'])\n",
        "\n",
        "his = model.fit(X_train, Y_train , validation_data = (X_test, Y_test), epochs = 15, batch_size = 32)\n"
      ],
      "execution_count": 10,
      "outputs": [
        {
          "output_type": "stream",
          "text": [
            "Epoch 1/15\n",
            "1407/1407 [==============================] - 117s 83ms/step - loss: 0.3989 - accuracy: 0.8177 - val_loss: 0.3083 - val_accuracy: 0.8668\n",
            "Epoch 2/15\n",
            "1407/1407 [==============================] - 117s 83ms/step - loss: 0.2844 - accuracy: 0.8822 - val_loss: 0.2928 - val_accuracy: 0.8726\n",
            "Epoch 3/15\n",
            "1407/1407 [==============================] - 117s 83ms/step - loss: 0.2590 - accuracy: 0.8938 - val_loss: 0.3081 - val_accuracy: 0.8638\n",
            "Epoch 4/15\n",
            "1407/1407 [==============================] - 118s 84ms/step - loss: 0.2386 - accuracy: 0.9042 - val_loss: 0.2679 - val_accuracy: 0.8864\n",
            "Epoch 5/15\n",
            "1407/1407 [==============================] - 119s 84ms/step - loss: 0.2205 - accuracy: 0.9110 - val_loss: 0.2605 - val_accuracy: 0.8948\n",
            "Epoch 6/15\n",
            "1407/1407 [==============================] - 118s 84ms/step - loss: 0.2058 - accuracy: 0.9180 - val_loss: 0.2753 - val_accuracy: 0.8892\n",
            "Epoch 7/15\n",
            "1407/1407 [==============================] - 118s 84ms/step - loss: 0.1939 - accuracy: 0.9245 - val_loss: 0.2647 - val_accuracy: 0.8886\n",
            "Epoch 8/15\n",
            "1407/1407 [==============================] - 119s 84ms/step - loss: 0.1825 - accuracy: 0.9297 - val_loss: 0.2692 - val_accuracy: 0.8890\n",
            "Epoch 9/15\n",
            "1407/1407 [==============================] - 119s 85ms/step - loss: 0.1695 - accuracy: 0.9363 - val_loss: 0.2738 - val_accuracy: 0.8862\n",
            "Epoch 10/15\n",
            "1407/1407 [==============================] - 119s 85ms/step - loss: 0.1597 - accuracy: 0.9398 - val_loss: 0.3070 - val_accuracy: 0.8846\n",
            "Epoch 11/15\n",
            "1407/1407 [==============================] - 119s 85ms/step - loss: 0.1506 - accuracy: 0.9442 - val_loss: 0.3022 - val_accuracy: 0.8842\n",
            "Epoch 12/15\n",
            "1407/1407 [==============================] - 119s 85ms/step - loss: 0.1410 - accuracy: 0.9490 - val_loss: 0.2940 - val_accuracy: 0.8852\n",
            "Epoch 13/15\n",
            "1407/1407 [==============================] - 119s 85ms/step - loss: 0.1312 - accuracy: 0.9541 - val_loss: 0.3068 - val_accuracy: 0.8842\n",
            "Epoch 14/15\n",
            "1407/1407 [==============================] - 120s 85ms/step - loss: 0.1245 - accuracy: 0.9550 - val_loss: 0.3396 - val_accuracy: 0.8794\n",
            "Epoch 15/15\n",
            "1407/1407 [==============================] - 120s 85ms/step - loss: 0.1161 - accuracy: 0.9591 - val_loss: 0.3461 - val_accuracy: 0.8806\n"
          ],
          "name": "stdout"
        }
      ]
    },
    {
      "cell_type": "markdown",
      "metadata": {
        "id": "Gu0TpCjnRppH",
        "colab_type": "text"
      },
      "source": [
        "# Step 10 - Plotting Loss and Accuracy"
      ]
    },
    {
      "cell_type": "code",
      "metadata": {
        "id": "4MEeHJXuRsRo",
        "colab_type": "code",
        "colab": {
          "base_uri": "https://localhost:8080/",
          "height": 282
        },
        "outputId": "f0958a75-9cd5-435c-d103-a4cef0b7cc9f"
      },
      "source": [
        "#Plotting Loss\n",
        "\n",
        "plt.plot(his.history['loss'], label = 'loss')\n",
        "plt.plot(his.history['val_loss'], label = 'Valdation loss')\n",
        "plt.legend()\n"
      ],
      "execution_count": 11,
      "outputs": [
        {
          "output_type": "execute_result",
          "data": {
            "text/plain": [
              "<matplotlib.legend.Legend at 0x7f02a94780b8>"
            ]
          },
          "metadata": {
            "tags": []
          },
          "execution_count": 11
        },
        {
          "output_type": "display_data",
          "data": {
            "image/png": "[encoded data removed]",
            "text/plain": [
              "<Figure size 432x288 with 1 Axes>"
            ]
          },
          "metadata": {
            "tags": [],
            "needs_background": "light"
          }
        }
      ]
    },
    {
      "cell_type": "code",
      "metadata": {
        "id": "D5Af4dS2RuRc",
        "colab_type": "code",
        "colab": {
          "base_uri": "https://localhost:8080/",
          "height": 264
        },
        "outputId": "3c6945e4-a50c-4a10-e2db-1f70da2dd999"
      },
      "source": [
        "plt.plot(his.history['accuracy'], label='Accuracy')\n",
        "plt.plot(his.history['val_accuracy'], label='Validation Accuracy')\n",
        "plt.legend()\n",
        "plt.show()\n"
      ],
      "execution_count": 12,
      "outputs": [
        {
          "output_type": "display_data",
          "data": {
            "image/png": "[encoded data removed]",
            "text/plain": [
              "<Figure size 432x288 with 1 Axes>"
            ]
          },
          "metadata": {
            "tags": [],
            "needs_background": "light"
          }
        }
      ]
    },
    {
      "cell_type": "markdown",
      "metadata": {
        "id": "0qrR18-HUA-k",
        "colab_type": "text"
      },
      "source": [
        "# Step 9 - Predicting results and checking accuracy"
      ]
    },
    {
      "cell_type": "code",
      "metadata": {
        "id": "8rRvhiNSUHAO",
        "colab_type": "code",
        "colab": {
          "base_uri": "https://localhost:8080/",
          "height": 70
        },
        "outputId": "e93629c0-17b4-4d9a-a242-7bdae2c5e75a"
      },
      "source": [
        "yhat = model.predict(X_test)\n",
        "yhat = yhat>=0.5\n",
        "\n",
        "from sklearn.metrics import confusion_matrix, accuracy_score\n",
        "cm = confusion_matrix(Y_test, yhat)\n",
        "accuracy = accuracy_score(Y_test, yhat)\n",
        "\n",
        "print(accuracy)\n",
        "print(cm)"
      ],
      "execution_count": 13,
      "outputs": [
        {
          "output_type": "stream",
          "text": [
            "0.8806\n",
            "[[2154  318]\n",
            " [ 279 2249]]\n"
          ],
          "name": "stdout"
        }
      ]
    },
    {
      "cell_type": "markdown",
      "metadata": {
        "id": "u0K0omkaZXDG",
        "colab_type": "text"
      },
      "source": [
        "# Step 10 - Saving model for future use and deplyoment"
      ]
    },
    {
      "cell_type": "code",
      "metadata": {
        "id": "yrG6eSfrZanv",
        "colab_type": "code",
        "colab": {}
      },
      "source": [
        "import pickle \n",
        "\n",
        "# Save weights and architecture\n",
        "\n",
        "model.save_weights(\"weights_only.h5\")\n",
        "\n",
        "# Save model config\n",
        "\n",
        "json_config = model.to_json()\n",
        "with open('model_config.json', 'w') as json_file:\n",
        "    json_file.write(json_config)\n",
        "\n",
        "with open(\"T.pkl\" , \"wb\") as filename:\n",
        "  pickle.dump(T, filename)\n",
        "\n",
        "with open(\"tokenizer.pkl\" , \"wb\") as filename:\n",
        "  pickle.dump(tokenizer, filename)"
      ],
      "execution_count": 14,
      "outputs": []
    },
    {
      "cell_type": "markdown",
      "metadata": {
        "id": "bB1vhTbzalmc",
        "colab_type": "text"
      },
      "source": [
        "**Conclusion**\n",
        "\n",
        "We can see that Deep Learning model RNN LSTM gave a accuracy of around 88 %, thus this is a good model to predict reviews for movies and we will be loading it in the file Predicting Reveiws.ipynb which will be the last file.\n"
      ]
    }
  ]
}