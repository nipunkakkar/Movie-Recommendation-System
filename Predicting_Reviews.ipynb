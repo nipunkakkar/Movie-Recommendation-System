{
  "nbformat": 4,
  "nbformat_minor": 0,
  "metadata": {
    "colab": {
      "name": "Predicting Reviews.ipynb",
      "provenance": [],
      "collapsed_sections": []
    },
    "kernelspec": {
      "name": "python3",
      "display_name": "Python 3"
    },
    "accelerator": "GPU"
  },
  "cells": [
    {
      "cell_type": "markdown",
      "metadata": {
        "id": "waDXRYfyXA2y",
        "colab_type": "text"
      },
      "source": [
        "**Problem Statment**\n",
        "\n",
        "In this file Predict Reviews.ipynb we will be scrapping reviews from IMDB by giving an imdb id of movie and then we will predict which of the reviews are positive and negative by loading alrady built model."
      ]
    },
    {
      "cell_type": "markdown",
      "metadata": {
        "id": "uKnyGRjjXQiU",
        "colab_type": "text"
      },
      "source": [
        "# Step 1 - Importing the libraries"
      ]
    },
    {
      "cell_type": "code",
      "metadata": {
        "id": "UurNUVSkXSuz",
        "colab_type": "code",
        "colab": {}
      },
      "source": [
        "import numpy as np\n",
        "import pandas as pd\n",
        "from tensorflow.keras.models import load_model\n",
        "from tensorflow.keras.preprocessing.sequence import pad_sequences\n",
        "import tensorflow as tf\n",
        "import json\n",
        "import bs4 as bs\n",
        "import urllib.request\n",
        "import pickle"
      ],
      "execution_count": 1,
      "outputs": []
    },
    {
      "cell_type": "markdown",
      "metadata": {
        "id": "tAi_-WtAXYPV",
        "colab_type": "text"
      },
      "source": [
        "# Step 2 - Loading already built model"
      ]
    },
    {
      "cell_type": "code",
      "metadata": {
        "id": "nJQaBYNhXbkq",
        "colab_type": "code",
        "colab": {}
      },
      "source": [
        "# Load Model Config\n",
        "\n",
        "with open('/content/drive/My Drive/Data Science Projects/dataset_movies/model_config.json') as json_file:\n",
        "    json_config = json_file.read()\n",
        "model = tf.keras.models.model_from_json(json_config)\n",
        "\n",
        "# Load weights\n",
        "\n",
        "model.load_weights('/content/drive/My Drive/Data Science Projects/dataset_movies/weights_only.h5')\n",
        "\n",
        "with open('/content/drive/My Drive/Data Science Projects/dataset_movies/tokenizer.pkl', 'rb') as file:\n",
        "  tokenizer = pickle.load(file)\n",
        "\n",
        "with open('/content/drive/My Drive/Data Science Projects/dataset_movies/Tvalue.pkl', 'rb') as file:\n",
        "  T = pickle.load(file)"
      ],
      "execution_count": 4,
      "outputs": []
    },
    {
      "cell_type": "markdown",
      "metadata": {
        "id": "YGjO5QgxanFW",
        "colab_type": "text"
      },
      "source": [
        "# Step 3 - Web Scrapping to get user reviews for given movie id from IMDB"
      ]
    },
    {
      "cell_type": "code",
      "metadata": {
        "id": "0pUsexPYarAM",
        "colab_type": "code",
        "colab": {}
      },
      "source": [
        "imdb_id = 'tt1409024'\n",
        "\n",
        "# web scraping to get user reviews from IMDB site\n",
        "\n",
        "sauce = urllib.request.urlopen('https://www.imdb.com/title/{}/reviews?ref_=tt_ov_rt'.format(imdb_id)).read()\n",
        "soup = bs.BeautifulSoup(sauce,'lxml')\n",
        "soup_result = soup.find_all(\"div\",{\"class\":\"text show-more__control\"})\n",
        "\n",
        "reviews_list = [] # list of reviews\n",
        "\n",
        "for reviews in soup_result:  \n",
        "  if reviews.string:\n",
        "    reviews_list.append(reviews.string)      \n",
        "        \n",
        "movie_review_list = pd.Series(reviews_list)\n",
        "movie_vector = tokenizer.texts_to_sequences(movie_review_list)\n",
        "movie_vector = pad_sequences(movie_vector, maxlen = T)"
      ],
      "execution_count": 5,
      "outputs": []
    },
    {
      "cell_type": "markdown",
      "metadata": {
        "id": "DNL95ahbauFm",
        "colab_type": "text"
      },
      "source": [
        "# Step 4 - Predicting the reviews"
      ]
    },
    {
      "cell_type": "code",
      "metadata": {
        "id": "sPLzYkaQawBd",
        "colab_type": "code",
        "colab": {
          "base_uri": "https://localhost:8080/",
          "height": 141
        },
        "outputId": "fa1460ee-3b38-4f3d-b53c-217917ca2d54"
      },
      "source": [
        "yhat = model.predict(movie_vector)\n",
        "\n",
        "result = []\n",
        "\n",
        "for i in yhat:\n",
        "  if(i>0.5):\n",
        "    result.append('Good')\n",
        "  else:\n",
        "    result.append('Bad')\n",
        "\n",
        "print(movie_vector)"
      ],
      "execution_count": 6,
      "outputs": [
        {
          "output_type": "stream",
          "text": [
            "[[   0    0    0 ...    5    1  210]\n",
            " [   0    0    0 ... 1411  655  353]\n",
            " [   0    0    0 ...    5   26  287]\n",
            " ...\n",
            " [   0    0    0 ...    4  619  214]\n",
            " [   0    0    0 ...   16    2  166]\n",
            " [   0    0    0 ...   25  106  176]]\n"
          ],
          "name": "stdout"
        }
      ]
    },
    {
      "cell_type": "code",
      "metadata": {
        "id": "DfbqBbSzc-DL",
        "colab_type": "code",
        "colab": {
          "base_uri": "https://localhost:8080/",
          "height": 194
        },
        "outputId": "3209fd15-f995-4348-dd19-66e814c8b461"
      },
      "source": [
        "reviews = pd.Series(data = reviews_list)\n",
        "result = pd.Series(data = result)\n",
        "\n",
        "final = pd.concat([reviews, result], axis =1)\n",
        "print(final)"
      ],
      "execution_count": 12,
      "outputs": [
        {
          "output_type": "stream",
          "text": [
            "                                                   0     1\n",
            "0  Men in Black 3 is fun, if flawed. Hugely bette...   Bad\n",
            "1  It is really hard to believe that it has been ...  Good\n",
            "2  This part of the Men in Black series is my fav...  Good\n",
            "3  Interesting enough as time travel with aliens ...   Bad\n",
            "4  Ending was good, beginning good. The hour and ...   Bad\n",
            "5  Well it's been 10 years since the dismal MIB2 ...   Bad\n",
            "6  Let's just get this out of the way: Josh Broli...   Bad\n",
            "7  We loved parts I and II and it was enough. Rig...   Bad\n",
            "8  Went to MIB III because it got a fresh ratings...   Bad\n"
          ],
          "name": "stdout"
        }
      ]
    },
    {
      "cell_type": "markdown",
      "metadata": {
        "id": "6rufx3LEdEK1",
        "colab_type": "text"
      },
      "source": [
        "**Conclusion**\n",
        "\n",
        "As seen we have predicted the reviews to be good or bad with already created NLP model.\n",
        "This was the last file of complete movie recommendation project where we not only used web scrapping, data collection, EDA, data preprocessing, Cosine Similarity techniques but also used Deep Learning, NLP, API data collection, Sentiment Analysis, Model Deplyoment etc"
      ]
    }
  ]
}